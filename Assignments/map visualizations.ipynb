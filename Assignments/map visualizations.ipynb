{
 "cells": [
  {
   "cell_type": "code",
   "execution_count": 1,
   "id": "c1f729a3",
   "metadata": {},
   "outputs": [
    {
     "data": {
      "text/plain": [
       "'\\nManhattan Summer PM Pedestrian Activity Heatmap\\nCreates a focused heatmap showing pedestrian activity in Manhattan during summer PM hours\\n'"
      ]
     },
     "execution_count": 1,
     "metadata": {},
     "output_type": "execute_result"
    }
   ],
   "source": [
    "\"\"\"\n",
    "Manhattan Summer PM Pedestrian Activity Heatmap\n",
    "Creates a focused heatmap showing pedestrian activity in Manhattan during summer PM hours\n",
    "\"\"\""
   ]
  },
  {
   "cell_type": "code",
   "execution_count": 2,
   "id": "907bb1ed",
   "metadata": {},
   "outputs": [],
   "source": [
    "import geopandas as gpd\n",
    "import pandas as pd\n",
    "import matplotlib.pyplot as plt\n",
    "from matplotlib.colors import LinearSegmentedColormap\n",
    "from shapely.geometry import Point\n",
    "import warnings"
   ]
  },
  {
   "cell_type": "code",
   "execution_count": 3,
   "id": "143b7d5d",
   "metadata": {},
   "outputs": [],
   "source": [
    "warnings.filterwarnings(\"ignore\")"
   ]
  },
  {
   "cell_type": "code",
   "execution_count": 7,
   "id": "94272737",
   "metadata": {},
   "outputs": [],
   "source": [
    "def create_manhattan_summer_pm_heatmap():\n",
    "    \"\"\"Create Manhattan summer PM pedestrian activity heatmap.\"\"\"\n",
    "\n",
    "    print(\"🔥 Creating Manhattan Summer PM Pedestrian Activity Heatmap...\")\n",
    "\n",
    "    # Load pedestrian data\n",
    "    ped_df = pd.read_csv(\"Data/Bi-Annual_Pedestrian_Counts_20250709.csv\")\n",
    "\n",
    "    # Extract coordinates from WKT format\n",
    "    ped_df[\"Longitude\"] = (\n",
    "        ped_df[\"the_geom\"].str.extract(r\"POINT \\(([-\\d.]+)\")[0].astype(float)\n",
    "    )\n",
    "    ped_df[\"Latitude\"] = ped_df[\"the_geom\"].str.extract(r\"([-\\d.]+)\\)\")[0].astype(float)\n",
    "\n",
    "    # Create GeoDataFrame for pedestrian data\n",
    "    ped_geometry = [Point(xy) for xy in zip(ped_df[\"Longitude\"], ped_df[\"Latitude\"])]\n",
    "    ped_gdf = gpd.GeoDataFrame(ped_df, geometry=ped_geometry, crs=\"EPSG:4326\")\n",
    "\n",
    "    # Load MapPLUTO to get Manhattan bounds\n",
    "    pluto_gdf = gpd.read_file(\"Data/nyc_mappluto_25v2_shp/MapPLUTO.shp\")\n",
    "    manhattan_pluto = pluto_gdf[pluto_gdf[\"Borough\"] == \"MN\"].copy()\n",
    "    manhattan_pluto_wgs84 = manhattan_pluto.to_crs(\"EPSG:4326\")\n",
    "    manhattan_bounds = manhattan_pluto_wgs84.total_bounds\n",
    "\n",
    "    # Filter pedestrian data to Manhattan bounds\n",
    "    manhattan_ped = ped_gdf[\n",
    "        (ped_gdf[\"Longitude\"] >= manhattan_bounds[0])\n",
    "        & (ped_gdf[\"Longitude\"] <= manhattan_bounds[2])\n",
    "        & (ped_gdf[\"Latitude\"] >= manhattan_bounds[1])\n",
    "        & (ped_gdf[\"Latitude\"] <= manhattan_bounds[3])\n",
    "    ].copy()\n",
    "\n",
    "    print(f\"   Manhattan pedestrian locations: {len(manhattan_ped)}\")"
   ]
  }
 ],
 "metadata": {
  "kernelspec": {
   "display_name": ".venv",
   "language": "python",
   "name": "python3"
  },
  "language_info": {
   "codemirror_mode": {
    "name": "ipython",
    "version": 3
   },
   "file_extension": ".py",
   "mimetype": "text/x-python",
   "name": "python",
   "nbconvert_exporter": "python",
   "pygments_lexer": "ipython3",
   "version": "3.13.4"
  }
 },
 "nbformat": 4,
 "nbformat_minor": 5
}
